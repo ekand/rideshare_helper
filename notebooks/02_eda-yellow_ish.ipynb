{
 "cells": [
  {
   "cell_type": "markdown",
   "metadata": {},
   "source": [
    "# Setup"
   ]
  },
  {
   "cell_type": "code",
   "execution_count": 1,
   "metadata": {},
   "outputs": [
    {
     "name": "stdout",
     "output_type": "stream",
     "text": [
      "/Users/erik/metis/data_hailing\n"
     ]
    }
   ],
   "source": [
    "import pandas as pd\n",
    "import psycopg2 as pg\n",
    "import os\n",
    "import sys\n",
    "import pandas.io.sql as pd_sql\n",
    "import numpy as np\n",
    "import sqlalchemy\n",
    "project_dir = str(os.path.dirname(os.path.abspath('')))\n",
    "print(project_dir)\n",
    "sys.path.append(project_dir)"
   ]
  },
  {
   "cell_type": "code",
   "execution_count": 2,
   "metadata": {},
   "outputs": [],
   "source": [
    "import matplotlib.pyplot as plt\n",
    "from src.pickle.pickle_util import save_pickle, load_pickle"
   ]
  },
  {
   "cell_type": "code",
   "execution_count": 12,
   "metadata": {},
   "outputs": [],
   "source": [
    "def save_figure(plot_title):\n",
    "    try:\n",
    "        file_path = project_dir + '/reports/figures/' + 'yellow' + plot_title.lower().replace(\" \", \"_\") + '.svg'\n",
    "        assert not os.path.exists(file_path)\n",
    "        plt.savefig(file_path)\n",
    "        print('file saved: ' + file_path)\n",
    "    except:\n",
    "        print('file not saved; file already exists: ' + file_path)\n",
    "    pass"
   ]
  },
  {
   "cell_type": "markdown",
   "metadata": {},
   "source": [
    "## Load Data from SQL and save to pickle for convenient access"
   ]
  },
  {
   "cell_type": "code",
   "execution_count": 4,
   "metadata": {},
   "outputs": [],
   "source": [
    "# engine = sqlalchemy.create_engine('postgresql://localhost:5432/data_hailing')\n",
    "\n",
    "# query = \"SELECT * FROM tnp_trips_2019_pandas WHERE DATE(trip_start_timestamp) = '2019-07-17';\"\n",
    "# trips_df = pd.read_sql_query(query, engine)"
   ]
  },
  {
   "cell_type": "code",
   "execution_count": 5,
   "metadata": {},
   "outputs": [],
   "source": [
    "file_path = project_dir + '/data/interim/' + 'trips_2019-07-07_from_02_eda.pickle'\n",
    "# save_pickle(trips_df, file_path)\n",
    "trips_df = load_pickle(file_path)"
   ]
  },
  {
   "cell_type": "code",
   "execution_count": 6,
   "metadata": {},
   "outputs": [
    {
     "data": {
      "text/plain": [
       "trip_start_timestamp          datetime64[ns]\n",
       "trip_end_timestamp            datetime64[ns]\n",
       "trip_seconds                         float64\n",
       "trip_miles                           float64\n",
       "pickup_census_tract                  float64\n",
       "dropoff_census_tract                 float64\n",
       "pickup_community_area                float64\n",
       "dropoff_community_area               float64\n",
       "fare                                 float64\n",
       "tip                                  float64\n",
       "additional_charges                   float64\n",
       "trip_total                           float64\n",
       "shared_trip_authorized                  bool\n",
       "trips_pooled                         float64\n",
       "pickup_centroid_latitude             float64\n",
       "pickup_centroid_longitude            float64\n",
       "dropoff_centroid_latitude            float64\n",
       "dropoff_centroid_longitude           float64\n",
       "dtype: object"
      ]
     },
     "execution_count": 6,
     "metadata": {},
     "output_type": "execute_result"
    }
   ],
   "source": [
    "trips_df.dtypes"
   ]
  },
  {
   "cell_type": "code",
   "execution_count": 7,
   "metadata": {},
   "outputs": [
    {
     "data": {
      "text/html": [
       "<div>\n",
       "<style scoped>\n",
       "    .dataframe tbody tr th:only-of-type {\n",
       "        vertical-align: middle;\n",
       "    }\n",
       "\n",
       "    .dataframe tbody tr th {\n",
       "        vertical-align: top;\n",
       "    }\n",
       "\n",
       "    .dataframe thead th {\n",
       "        text-align: right;\n",
       "    }\n",
       "</style>\n",
       "<table border=\"1\" class=\"dataframe\">\n",
       "  <thead>\n",
       "    <tr style=\"text-align: right;\">\n",
       "      <th></th>\n",
       "      <th>trip_start_timestamp</th>\n",
       "      <th>trip_end_timestamp</th>\n",
       "      <th>trip_seconds</th>\n",
       "      <th>trip_miles</th>\n",
       "      <th>pickup_census_tract</th>\n",
       "      <th>dropoff_census_tract</th>\n",
       "      <th>pickup_community_area</th>\n",
       "      <th>dropoff_community_area</th>\n",
       "      <th>fare</th>\n",
       "      <th>tip</th>\n",
       "      <th>additional_charges</th>\n",
       "      <th>trip_total</th>\n",
       "      <th>shared_trip_authorized</th>\n",
       "      <th>trips_pooled</th>\n",
       "      <th>pickup_centroid_latitude</th>\n",
       "      <th>pickup_centroid_longitude</th>\n",
       "      <th>dropoff_centroid_latitude</th>\n",
       "      <th>dropoff_centroid_longitude</th>\n",
       "    </tr>\n",
       "  </thead>\n",
       "  <tbody>\n",
       "    <tr>\n",
       "      <th>0</th>\n",
       "      <td>2019-07-17 11:30:00</td>\n",
       "      <td>2019-07-17 11:45:00</td>\n",
       "      <td>857.0</td>\n",
       "      <td>4.5</td>\n",
       "      <td>1.703108e+10</td>\n",
       "      <td>1.703106e+10</td>\n",
       "      <td>8.0</td>\n",
       "      <td>6.0</td>\n",
       "      <td>10.0</td>\n",
       "      <td>0.0</td>\n",
       "      <td>2.55</td>\n",
       "      <td>12.55</td>\n",
       "      <td>False</td>\n",
       "      <td>1.0</td>\n",
       "      <td>41.907520</td>\n",
       "      <td>-87.626659</td>\n",
       "      <td>41.949221</td>\n",
       "      <td>-87.651970</td>\n",
       "    </tr>\n",
       "    <tr>\n",
       "      <th>1</th>\n",
       "      <td>2019-07-17 19:00:00</td>\n",
       "      <td>2019-07-17 19:15:00</td>\n",
       "      <td>1181.0</td>\n",
       "      <td>5.6</td>\n",
       "      <td>1.703132e+10</td>\n",
       "      <td>1.703122e+10</td>\n",
       "      <td>32.0</td>\n",
       "      <td>22.0</td>\n",
       "      <td>12.5</td>\n",
       "      <td>12.0</td>\n",
       "      <td>2.55</td>\n",
       "      <td>27.05</td>\n",
       "      <td>False</td>\n",
       "      <td>1.0</td>\n",
       "      <td>41.884987</td>\n",
       "      <td>-87.620993</td>\n",
       "      <td>41.928465</td>\n",
       "      <td>-87.695087</td>\n",
       "    </tr>\n",
       "    <tr>\n",
       "      <th>2</th>\n",
       "      <td>2019-07-17 23:45:00</td>\n",
       "      <td>2019-07-17 23:45:00</td>\n",
       "      <td>779.0</td>\n",
       "      <td>5.4</td>\n",
       "      <td>1.703108e+10</td>\n",
       "      <td>1.703183e+10</td>\n",
       "      <td>8.0</td>\n",
       "      <td>6.0</td>\n",
       "      <td>10.0</td>\n",
       "      <td>0.0</td>\n",
       "      <td>2.55</td>\n",
       "      <td>12.55</td>\n",
       "      <td>False</td>\n",
       "      <td>1.0</td>\n",
       "      <td>41.900221</td>\n",
       "      <td>-87.629105</td>\n",
       "      <td>41.945170</td>\n",
       "      <td>-87.668794</td>\n",
       "    </tr>\n",
       "    <tr>\n",
       "      <th>3</th>\n",
       "      <td>2019-07-17 18:15:00</td>\n",
       "      <td>2019-07-17 19:15:00</td>\n",
       "      <td>3877.0</td>\n",
       "      <td>26.5</td>\n",
       "      <td>NaN</td>\n",
       "      <td>1.703132e+10</td>\n",
       "      <td>NaN</td>\n",
       "      <td>32.0</td>\n",
       "      <td>42.5</td>\n",
       "      <td>0.0</td>\n",
       "      <td>2.55</td>\n",
       "      <td>45.05</td>\n",
       "      <td>False</td>\n",
       "      <td>1.0</td>\n",
       "      <td>NaN</td>\n",
       "      <td>NaN</td>\n",
       "      <td>41.884987</td>\n",
       "      <td>-87.620993</td>\n",
       "    </tr>\n",
       "    <tr>\n",
       "      <th>4</th>\n",
       "      <td>2019-07-17 22:30:00</td>\n",
       "      <td>2019-07-17 22:45:00</td>\n",
       "      <td>671.0</td>\n",
       "      <td>4.2</td>\n",
       "      <td>1.703108e+10</td>\n",
       "      <td>1.703106e+10</td>\n",
       "      <td>8.0</td>\n",
       "      <td>6.0</td>\n",
       "      <td>7.5</td>\n",
       "      <td>0.0</td>\n",
       "      <td>2.55</td>\n",
       "      <td>10.05</td>\n",
       "      <td>False</td>\n",
       "      <td>1.0</td>\n",
       "      <td>41.892042</td>\n",
       "      <td>-87.631864</td>\n",
       "      <td>41.943155</td>\n",
       "      <td>-87.640698</td>\n",
       "    </tr>\n",
       "  </tbody>\n",
       "</table>\n",
       "</div>"
      ],
      "text/plain": [
       "  trip_start_timestamp  trip_end_timestamp  trip_seconds  trip_miles  \\\n",
       "0  2019-07-17 11:30:00 2019-07-17 11:45:00         857.0         4.5   \n",
       "1  2019-07-17 19:00:00 2019-07-17 19:15:00        1181.0         5.6   \n",
       "2  2019-07-17 23:45:00 2019-07-17 23:45:00         779.0         5.4   \n",
       "3  2019-07-17 18:15:00 2019-07-17 19:15:00        3877.0        26.5   \n",
       "4  2019-07-17 22:30:00 2019-07-17 22:45:00         671.0         4.2   \n",
       "\n",
       "   pickup_census_tract  dropoff_census_tract  pickup_community_area  \\\n",
       "0         1.703108e+10          1.703106e+10                    8.0   \n",
       "1         1.703132e+10          1.703122e+10                   32.0   \n",
       "2         1.703108e+10          1.703183e+10                    8.0   \n",
       "3                  NaN          1.703132e+10                    NaN   \n",
       "4         1.703108e+10          1.703106e+10                    8.0   \n",
       "\n",
       "   dropoff_community_area  fare   tip  additional_charges  trip_total  \\\n",
       "0                     6.0  10.0   0.0                2.55       12.55   \n",
       "1                    22.0  12.5  12.0                2.55       27.05   \n",
       "2                     6.0  10.0   0.0                2.55       12.55   \n",
       "3                    32.0  42.5   0.0                2.55       45.05   \n",
       "4                     6.0   7.5   0.0                2.55       10.05   \n",
       "\n",
       "   shared_trip_authorized  trips_pooled  pickup_centroid_latitude  \\\n",
       "0                   False           1.0                 41.907520   \n",
       "1                   False           1.0                 41.884987   \n",
       "2                   False           1.0                 41.900221   \n",
       "3                   False           1.0                       NaN   \n",
       "4                   False           1.0                 41.892042   \n",
       "\n",
       "   pickup_centroid_longitude  dropoff_centroid_latitude  \\\n",
       "0                 -87.626659                  41.949221   \n",
       "1                 -87.620993                  41.928465   \n",
       "2                 -87.629105                  41.945170   \n",
       "3                        NaN                  41.884987   \n",
       "4                 -87.631864                  41.943155   \n",
       "\n",
       "   dropoff_centroid_longitude  \n",
       "0                  -87.651970  \n",
       "1                  -87.695087  \n",
       "2                  -87.668794  \n",
       "3                  -87.620993  \n",
       "4                  -87.640698  "
      ]
     },
     "execution_count": 7,
     "metadata": {},
     "output_type": "execute_result"
    }
   ],
   "source": [
    "trips_df.head()"
   ]
  },
  {
   "cell_type": "markdown",
   "metadata": {},
   "source": [
    "## Check fraction of trips with a non-zero tip"
   ]
  },
  {
   "cell_type": "code",
   "execution_count": 8,
   "metadata": {},
   "outputs": [
    {
     "data": {
      "text/plain": [
       "0.2178897964583899"
      ]
     },
     "execution_count": 8,
     "metadata": {},
     "output_type": "execute_result"
    }
   ],
   "source": [
    "(trips_df.loc[:, 'tip'] > 0).mean()"
   ]
  },
  {
   "cell_type": "markdown",
   "metadata": {},
   "source": [
    "There are about 22% of trips that have a tip. This is good to know because it means the data with work for a classification model"
   ]
  },
  {
   "cell_type": "markdown",
   "metadata": {},
   "source": [
    "## Histograms"
   ]
  },
  {
   "cell_type": "markdown",
   "metadata": {},
   "source": [
    "### Histogram of times of trip by hour"
   ]
  },
  {
   "cell_type": "code",
   "execution_count": 13,
   "metadata": {},
   "outputs": [
    {
     "name": "stdout",
     "output_type": "stream",
     "text": [
      "file saved: /Users/erik/metis/data_hailing/reports/figures/yellownumber_of_rides_starting_by_hour_on_2017-07-17.svg\n"
     ]
    },
    {
     "data": {
      "image/png": "[encoded data removed]",
      "text/plain": [
       "<Figure size 432x288 with 1 Axes>"
      ]
     },
     "metadata": {
      "needs_background": "light"
     },
     "output_type": "display_data"
    }
   ],
   "source": [
    "plt.hist(trips_df.trip_start_timestamp.dt.hour, bins=24, color='#f7b32b')\n",
    "plot_title = 'Number of Rides Starting by Hour on 2017-07-17'\n",
    "plt.title(plot_title)\n",
    "\n",
    "plt.xlabel('hour of day')\n",
    "plt.ylabel('frequency')\n",
    "save_figure(plot_title)"
   ]
  },
  {
   "cell_type": "code",
   "execution_count": 14,
   "metadata": {},
   "outputs": [
    {
     "name": "stdout",
     "output_type": "stream",
     "text": [
      "file saved: /Users/erik/metis/data_hailing/reports/figures/yellownumber_of_rides_ending_by_hour_on_2017-07-17.svg\n"
     ]
    },
    {
     "data": {
      "image/png": "[encoded data removed]",
      "text/plain": [
       "<Figure size 432x288 with 1 Axes>"
      ]
     },
     "metadata": {
      "needs_background": "light"
     },
     "output_type": "display_data"
    }
   ],
   "source": [
    "plt.hist(trips_df.trip_end_timestamp.dt.hour, bins=24, color='#f7b32b')\n",
    "plot_title = 'Number of Rides Ending by Hour on 2017-07-17'\n",
    "plt.title(plot_title)\n",
    "\n",
    "plt.xlabel('hour of day')\n",
    "plt.ylabel('frequency')\n",
    "save_figure(plot_title)"
   ]
  },
  {
   "cell_type": "markdown",
   "metadata": {},
   "source": [
    "### Histogram of trips by hour of day in the loop"
   ]
  },
  {
   "cell_type": "markdown",
   "metadata": {},
   "source": [
    "The loop is community area 32"
   ]
  },
  {
   "cell_type": "code",
   "execution_count": 15,
   "metadata": {},
   "outputs": [
    {
     "name": "stdout",
     "output_type": "stream",
     "text": [
      "file saved: /Users/erik/metis/data_hailing/reports/figures/yellownumber_of_rides_starting_by_hour_in_the_loop.svg\n"
     ]
    },
    {
     "data": {
      "image/png": "[encoded data removed]",
      "text/plain": [
       "<Figure size 432x288 with 1 Axes>"
      ]
     },
     "metadata": {
      "needs_background": "light"
     },
     "output_type": "display_data"
    }
   ],
   "source": [
    "loop = trips_df[trips_df.pickup_community_area == 32]\n",
    "plt.hist(loop.trip_start_timestamp.dt.hour, bins=24, color='#f7b32b')\n",
    "plot_title = 'Number of Rides Starting by Hour in the Loop'\n",
    "plt.title(plot_title)\n",
    "plt.xlabel('hour of day')\n",
    "plt.ylabel('frequency')\n",
    "\n",
    "save_figure(plot_title)"
   ]
  },
  {
   "cell_type": "code",
   "execution_count": 16,
   "metadata": {},
   "outputs": [
    {
     "name": "stdout",
     "output_type": "stream",
     "text": [
      "file saved: /Users/erik/metis/data_hailing/reports/figures/yellownumber_of_rides_ending_in_the_loop_by_hour.svg\n"
     ]
    },
    {
     "data": {
      "image/png": "[encoded data removed]",
      "text/plain": [
       "<Figure size 432x288 with 1 Axes>"
      ]
     },
     "metadata": {
      "needs_background": "light"
     },
     "output_type": "display_data"
    }
   ],
   "source": [
    "loop = trips_df[trips_df.dropoff_community_area == 32]\n",
    "fig = plt.hist(loop.trip_end_timestamp.dt.hour, bins=24, color='#f7b32b')\n",
    "plot_title = 'Number of Rides Ending in the Loop by hour'\n",
    "plt.title(plot_title)\n",
    "plt.xlabel('hour of day')\n",
    "plt.ylabel('frequency')\n",
    "\n",
    "save_figure(plot_title)"
   ]
  },
  {
   "cell_type": "markdown",
   "metadata": {},
   "source": [
    "### Histogram of rides starting or ending in near north side"
   ]
  },
  {
   "cell_type": "code",
   "execution_count": 17,
   "metadata": {},
   "outputs": [
    {
     "name": "stdout",
     "output_type": "stream",
     "text": [
      "file saved: /Users/erik/metis/data_hailing/reports/figures/yellownumber_of_trips_starting_in_the_near_north_side_by_hour.svg\n"
     ]
    },
    {
     "data": {
      "image/png": "[encoded data removed]",
      "text/plain": [
       "<Figure size 432x288 with 1 Axes>"
      ]
     },
     "metadata": {
      "needs_background": "light"
     },
     "output_type": "display_data"
    }
   ],
   "source": [
    "near_north_side = trips_df[trips_df.pickup_community_area == 8]\n",
    "plt.hist(near_north_side.trip_start_timestamp.dt.hour, bins=24, color='#f7b32b')\n",
    "plot_title = 'Number of Trips starting in the Near North Side by Hour'\n",
    "plt.title(plot_title)\n",
    "plt.xlabel('hour of day')\n",
    "plt.ylabel('frequency')\n",
    "\n",
    "save_figure(plot_title)"
   ]
  },
  {
   "cell_type": "code",
   "execution_count": 18,
   "metadata": {},
   "outputs": [
    {
     "name": "stdout",
     "output_type": "stream",
     "text": [
      "file saved: /Users/erik/metis/data_hailing/reports/figures/yellownumber_of_tripes_ending_in_the_near_north_side_by_hour.svg\n"
     ]
    },
    {
     "data": {
      "image/png": "[encoded data removed]",
      "text/plain": [
       "<Figure size 432x288 with 1 Axes>"
      ]
     },
     "metadata": {
      "needs_background": "light"
     },
     "output_type": "display_data"
    }
   ],
   "source": [
    "near_north_side = trips_df[trips_df.dropoff_community_area == 8]\n",
    "plt.hist(near_north_side.trip_end_timestamp.dt.hour, bins=24, color='#f7b32b')\n",
    "plot_title = 'Number of Tripes ending in the Near North Side by Hour'\n",
    "plt.title(plot_title)\n",
    "plt.xlabel('hour of day')\n",
    "plt.ylabel('frequency')\n",
    "\n",
    "save_figure(plot_title)"
   ]
  },
  {
   "cell_type": "markdown",
   "metadata": {},
   "source": [
    "### Make hour histogram for community area 50 (Pullman)"
   ]
  },
  {
   "cell_type": "markdown",
   "metadata": {},
   "source": [
    "Community area 50 is a randomly selected one with a small total number of trips. It is Pullman and is in the far north east side"
   ]
  },
  {
   "cell_type": "code",
   "execution_count": 20,
   "metadata": {},
   "outputs": [
    {
     "name": "stdout",
     "output_type": "stream",
     "text": [
      "file saved: /Users/erik/metis/data_hailing/reports/figures/yellownumber_of_trips_starting_in_pullman_by_hour.svg\n"
     ]
    },
    {
     "data": {
      "image/png": "[encoded data removed]",
      "text/plain": [
       "<Figure size 432x288 with 1 Axes>"
      ]
     },
     "metadata": {
      "needs_background": "light"
     },
     "output_type": "display_data"
    }
   ],
   "source": [
    "community = trips_df[trips_df.pickup_community_area == 50.0]\n",
    "plt.hist(community.trip_start_timestamp.dt.hour, bins=24, color='#f7b32b')\n",
    "plot_title = 'Number of Trips starting in Pullman by Hour'\n",
    "plt.title(plot_title)\n",
    "plt.xlabel('hour of day')\n",
    "plt.ylabel('frequency')\n",
    "\n",
    "save_figure(plot_title)"
   ]
  },
  {
   "cell_type": "code",
   "execution_count": 21,
   "metadata": {},
   "outputs": [
    {
     "name": "stdout",
     "output_type": "stream",
     "text": [
      "file saved: /Users/erik/metis/data_hailing/reports/figures/yellownumber_of_trips_ending_in_pullman_by_hour.svg\n"
     ]
    },
    {
     "data": {
      "image/png": "[encoded data removed]",
      "text/plain": [
       "<Figure size 432x288 with 1 Axes>"
      ]
     },
     "metadata": {
      "needs_background": "light"
     },
     "output_type": "display_data"
    }
   ],
   "source": [
    "community = trips_df[trips_df.dropoff_community_area == 50.0]\n",
    "plt.hist(community.trip_end_timestamp.dt.hour, bins=24, color='#f7b32b')\n",
    "\n",
    "plot_title = 'Number of Trips ending in Pullman by Hour'\n",
    "plt.title(plot_title)\n",
    "plt.xlabel('hour of day')\n",
    "plt.ylabel('frequency')\n",
    "\n",
    "save_figure(plot_title)"
   ]
  },
  {
   "cell_type": "markdown",
   "metadata": {},
   "source": [
    "## Histrogram of rides by area in Near West Side"
   ]
  },
  {
   "cell_type": "markdown",
   "metadata": {},
   "source": [
    "Near West Side is community Area 28"
   ]
  },
  {
   "cell_type": "code",
   "execution_count": 22,
   "metadata": {},
   "outputs": [
    {
     "name": "stdout",
     "output_type": "stream",
     "text": [
      "file saved: /Users/erik/metis/data_hailing/reports/figures/yellownumber_of_rides_starting_in_near_west_loop_by_hour.svg\n"
     ]
    },
    {
     "data": {
      "image/png": "[encoded data removed]",
      "text/plain": [
       "<Figure size 432x288 with 1 Axes>"
      ]
     },
     "metadata": {
      "needs_background": "light"
     },
     "output_type": "display_data"
    }
   ],
   "source": [
    "community = trips_df[trips_df.pickup_community_area == 28.0]\n",
    "plt.hist(community.trip_start_timestamp.dt.hour, bins=24, color='#f7b32b')\n",
    "plot_title = 'Number of Rides starting in Near West Loop By Hour'\n",
    "plt.title(plot_title)\n",
    "plt.xlabel('hour of day')\n",
    "plt.ylabel('frequency')\n",
    "pass\n",
    "save_figure(plot_title)"
   ]
  },
  {
   "cell_type": "code",
   "execution_count": 23,
   "metadata": {},
   "outputs": [
    {
     "name": "stdout",
     "output_type": "stream",
     "text": [
      "file saved: /Users/erik/metis/data_hailing/reports/figures/yellownumber_of_rides_ending_in_near_west_loop_by_hour.svg\n"
     ]
    },
    {
     "data": {
      "image/png": "[encoded data removed]",
      "text/plain": [
       "<Figure size 432x288 with 1 Axes>"
      ]
     },
     "metadata": {
      "needs_background": "light"
     },
     "output_type": "display_data"
    }
   ],
   "source": [
    "community = trips_df[trips_df.dropoff_community_area == 28.0]\n",
    "plot_title = 'Number of Rides ending in Near West Loop By Hour'\n",
    "plt.hist(community.trip_end_timestamp.dt.hour, bins=24, color='#f7b32b')\n",
    "plt.title(plot_title)\n",
    "plt.xlabel('hour of day')\n",
    "plt.ylabel('frequency')\n",
    "\n",
    "save_figure(plot_title)"
   ]
  },
  {
   "cell_type": "markdown",
   "metadata": {},
   "source": [
    "# Community areas with most pickups and dropoffs"
   ]
  },
  {
   "cell_type": "code",
   "execution_count": 36,
   "metadata": {},
   "outputs": [
    {
     "data": {
      "text/plain": [
       "pickup_community_area\n",
       "8.0     49237\n",
       "32.0    32072\n",
       "28.0    27112\n",
       "6.0     17464\n",
       "24.0    15965\n",
       "7.0     13882\n",
       "76.0    12432\n",
       "22.0     8711\n",
       "33.0     5845\n",
       "3.0      5351\n",
       "Name: tip, dtype: int64"
      ]
     },
     "execution_count": 36,
     "metadata": {},
     "output_type": "execute_result"
    }
   ],
   "source": [
    "trips_df.groupby('pickup_community_area').tip.count().sort_values(ascending=False).head(10)"
   ]
  },
  {
   "cell_type": "markdown",
   "metadata": {},
   "source": [
    "names of those\n",
    "```\n",
    "8.0     49237    Near North Side\n",
    "32.0    32072    Loop\n",
    "28.0    27112    Near West Side\n",
    "6.0     17464    Lake View\n",
    "24.0    15965    West Town\n",
    "7.0     13882    Lincoln Park\n",
    "76.0    12432    O'Hare\n",
    "22.0     8711    Logan Square\n",
    "33.0     5845    Near South Side\n",
    "3.0      5351    Uptown\n",
    "```"
   ]
  },
  {
   "cell_type": "code",
   "execution_count": 42,
   "metadata": {},
   "outputs": [
    {
     "data": {
      "text/plain": [
       "dropoff_community_area\n",
       "8.0     46118\n",
       "32.0    35573\n",
       "28.0    27477\n",
       "6.0     16798\n",
       "76.0    15076\n",
       "24.0    14278\n",
       "7.0     12996\n",
       "22.0     8522\n",
       "33.0     5381\n",
       "3.0      5096\n",
       "Name: tip, dtype: int64"
      ]
     },
     "execution_count": 42,
     "metadata": {},
     "output_type": "execute_result"
    }
   ],
   "source": [
    "trips_df.groupby('dropoff_community_area').tip.count().sort_values(ascending=False).head(10)"
   ]
  },
  {
   "cell_type": "markdown",
   "metadata": {},
   "source": [
    "names of those\n",
    "```\n",
    "8.0     46118     Near North Side\n",
    "32.0    35573     Loop\n",
    "28.0    27477     Near West Side\n",
    "6.0     16798     Lake View\n",
    "76.0    15076     O'Hare\n",
    "24.0    14278     West Town\n",
    "7.0     12996     East Garfield Park\n",
    "22.0     8522     Logan Square\n",
    "33.0     5381     Near South Side\n",
    "3.0      5096     Uptown\n",
    "```"
   ]
  },
  {
   "cell_type": "markdown",
   "metadata": {},
   "source": [
    "### Histogram of trip durations"
   ]
  },
  {
   "cell_type": "code",
   "execution_count": 65,
   "metadata": {},
   "outputs": [
    {
     "name": "stdout",
     "output_type": "stream",
     "text": [
      "file saved: /Users/erik/metis/data_hailing/reports/figures/duration_of_trip_in_minutes.svg\n"
     ]
    },
    {
     "data": {
      "image/png": "[encoded data removed]",
      "text/plain": [
       "<Figure size 432x288 with 1 Axes>"
      ]
     },
     "metadata": {
      "needs_background": "light"
     },
     "output_type": "display_data"
    }
   ],
   "source": [
    "plt.hist(trips_df.trip_seconds/60)\n",
    "plt.xlabel('trip minutes')\n",
    "plt.ylabel('frequency')\n",
    "plot_title = 'Duration Of Trip in Minutes'\n",
    "plt.title(plot_title)\n",
    "save_figure(plot_title)"
   ]
  },
  {
   "cell_type": "code",
   "execution_count": 66,
   "metadata": {},
   "outputs": [
    {
     "name": "stdout",
     "output_type": "stream",
     "text": [
      "file saved: /Users/erik/metis/data_hailing/reports/figures/trip_duration_in_minutes.svg\n"
     ]
    },
    {
     "data": {
      "image/png": "[encoded data removed]",
      "text/plain": [
       "<Figure size 432x288 with 1 Axes>"
      ]
     },
     "metadata": {
      "needs_background": "light"
     },
     "output_type": "display_data"
    }
   ],
   "source": [
    "shorter_trips = trips_df.trip_seconds[trips_df.trip_seconds < (60 * 60)]\n",
    "plt.hist(shorter_trips/60, bins=15)\n",
    "plt.xlabel('trip minutes')\n",
    "plt.ylabel('frequency')\n",
    "plot_title = 'Trip Duration in Minutes'\n",
    "plt.title(plot_title)\n",
    "\n",
    "save_figure(plot_title)"
   ]
  }
 ],
 "metadata": {
  "kernelspec": {
   "display_name": "Python [conda env:metis-hailing]",
   "language": "python",
   "name": "conda-env-metis-hailing-py"
  },
  "language_info": {
   "codemirror_mode": {
    "name": "ipython",
    "version": 3
   },
   "file_extension": ".py",
   "mimetype": "text/x-python",
   "name": "python",
   "nbconvert_exporter": "python",
   "pygments_lexer": "ipython3",
   "version": "3.7.4"
  },
  "toc": {
   "base_numbering": 1,
   "nav_menu": {},
   "number_sections": true,
   "sideBar": true,
   "skip_h1_title": false,
   "title_cell": "Table of Contents",
   "title_sidebar": "Contents",
   "toc_cell": false,
   "toc_position": {},
   "toc_section_display": true,
   "toc_window_display": false
  }
 },
 "nbformat": 4,
 "nbformat_minor": 2
}
